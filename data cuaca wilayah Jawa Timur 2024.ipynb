{
  "nbformat": 4,
  "nbformat_minor": 0,
  "metadata": {
    "colab": {
      "provenance": []
    },
    "kernelspec": {
      "name": "python3",
      "display_name": "Python 3"
    },
    "language_info": {
      "name": "python"
    }
  },
  "cells": [
    {
      "cell_type": "markdown",
      "source": [
        "**SCRAPPING CUACA WILAYAH JAWA TIMUR TAHUN 2024**"
      ],
      "metadata": {
        "id": "IUSOlu3sGX70"
      }
    },
    {
      "cell_type": "code",
      "execution_count": 1,
      "metadata": {
        "colab": {
          "base_uri": "https://localhost:8080/"
        },
        "id": "QnWQyiedGRn7",
        "outputId": "e6608b9f-dd7b-49ee-c9c7-8f51513d30a1"
      },
      "outputs": [
        {
          "output_type": "stream",
          "name": "stdout",
          "text": [
            "Data cuaca seluruh kota di Jawa Timur telah disimpan ke 'cuaca_jawa_timur_2024.csv'\n"
          ]
        }
      ],
      "source": [
        "import requests\n",
        "from bs4 import BeautifulSoup\n",
        "import pandas as pd\n",
        "import json\n",
        "\n",
        "\n",
        "# Ganti dengan API Key yang valid\n",
        "API_KEY = ''\n",
        "\n",
        "cities = [\n",
        "    'Surabaya', 'Malang', 'Kediri', 'Jember', 'Mojokerto',\n",
        "    'Probolinggo', 'Banyuwangi', 'Pasuruan', 'Lumajang',\n",
        "    'Sidoarjo', 'Blitar', 'Tulungagung', 'Trenggalek',\n",
        "    'Ngawi', 'Magetan', 'Pacitan', 'Bondowoso',\n",
        "    'Situbondo', 'Jombang', 'Madiun'\n",
        "]\n",
        "\n",
        "\n",
        "weather_data = []\n",
        "\n",
        "for city in cities:\n",
        "\n",
        "    url = f'http://api.openweathermap.org/data/2.5/weather?q={city},id&appid={API_KEY}&units=metric'\n",
        "\n",
        "    response = requests.get(url)\n",
        "\n",
        "    if response.status_code == 200:\n",
        "\n",
        "        data = response.json()\n",
        "\n",
        "        weather_data.append({\n",
        "            'City': data['name'],\n",
        "            'Temperature (°C)': data['main']['temp'],\n",
        "            'Weather': data['weather'][0]['description'],\n",
        "            'Humidity (%)': data['main']['humidity'],\n",
        "            'Wind Speed (m/s)': data['wind']['speed'],\n",
        "            'Date': pd.to_datetime('now').strftime('%Y-%m-%d %H:%M:%S')\n",
        "        })\n",
        "    else:\n",
        "        print(f\"Gagal mendapatkan data untuk {city}. Kode status: {response.status_code}\")\n",
        "\n",
        "df = pd.DataFrame(weather_data)\n",
        "\n",
        "df.to_csv('cuaca_jawa_timur_2024.csv', index=False)\n",
        "print(\"Data cuaca seluruh kota di Jawa Timur telah disimpan ke 'cuaca_jawa_timur_2024.csv'\")\n",
        "\n",
        "\n"
      ]
    },
    {
      "cell_type": "markdown",
      "source": [
        "**SCRAPING DATA SEMI TERSTRUKTUR DAN KONVERSI KE DATA TERSTRUKTUR**"
      ],
      "metadata": {
        "id": "nWMqDLbkGlkm"
      }
    },
    {
      "cell_type": "markdown",
      "source": [
        "Get JSON scrapping cuacah wilayah jawa timur"
      ],
      "metadata": {
        "id": "pSDZrar6GqMz"
      }
    },
    {
      "cell_type": "code",
      "source": [
        "\n",
        "print(\"Hasil meta terstruktur berupa JSON:\", weather_data)\n",
        "print(\"===============================\")\n",
        "\n",
        "\n",
        "print(\"Hasil meta terstruktur berupa JSON prettify:\")\n",
        "print(pd.DataFrame(weather_data).to_json(orient='records', lines=True))"
      ],
      "metadata": {
        "colab": {
          "base_uri": "https://localhost:8080/"
        },
        "id": "-t2mZ3gsGsjs",
        "outputId": "d695df1a-fb0f-459c-d055-6922b09c0da5"
      },
      "execution_count": 2,
      "outputs": [
        {
          "output_type": "stream",
          "name": "stdout",
          "text": [
            "Hasil meta terstruktur berupa JSON: [{'City': 'Surabaya', 'Temperature (°C)': 32.23, 'Weather': 'few clouds', 'Humidity (%)': 67, 'Wind Speed (m/s)': 2.06, 'Date': '2025-04-06 03:46:47'}, {'City': 'Malang', 'Temperature (°C)': 30.59, 'Weather': 'few clouds', 'Humidity (%)': 75, 'Wind Speed (m/s)': 1.75, 'Date': '2025-04-06 03:46:47'}, {'City': 'Kediri', 'Temperature (°C)': 34.04, 'Weather': 'broken clouds', 'Humidity (%)': 66, 'Wind Speed (m/s)': 3.97, 'Date': '2025-04-06 03:46:47'}, {'City': 'Jember', 'Temperature (°C)': 30.25, 'Weather': 'overcast clouds', 'Humidity (%)': 64, 'Wind Speed (m/s)': 1.9, 'Date': '2025-04-06 03:46:47'}, {'City': 'Mojokerto', 'Temperature (°C)': 32.1, 'Weather': 'broken clouds', 'Humidity (%)': 68, 'Wind Speed (m/s)': 2.01, 'Date': '2025-04-06 03:46:48'}, {'City': 'Probolinggo', 'Temperature (°C)': 31.68, 'Weather': 'scattered clouds', 'Humidity (%)': 67, 'Wind Speed (m/s)': 2.94, 'Date': '2025-04-06 03:46:48'}, {'City': 'Banyuwangi', 'Temperature (°C)': 30.36, 'Weather': 'overcast clouds', 'Humidity (%)': 64, 'Wind Speed (m/s)': 2.88, 'Date': '2025-04-06 03:46:48'}, {'City': 'Pasuruan', 'Temperature (°C)': 32.55, 'Weather': 'few clouds', 'Humidity (%)': 68, 'Wind Speed (m/s)': 2.97, 'Date': '2025-04-06 03:46:48'}, {'City': 'Lumajang', 'Temperature (°C)': 30.97, 'Weather': 'broken clouds', 'Humidity (%)': 65, 'Wind Speed (m/s)': 3.25, 'Date': '2025-04-06 03:46:48'}, {'City': 'Sidoarjo', 'Temperature (°C)': 29.98, 'Weather': 'few clouds', 'Humidity (%)': 74, 'Wind Speed (m/s)': 2.06, 'Date': '2025-04-06 03:46:48'}, {'City': 'Blitar', 'Temperature (°C)': 32.28, 'Weather': 'few clouds', 'Humidity (%)': 68, 'Wind Speed (m/s)': 3.76, 'Date': '2025-04-06 03:46:48'}, {'City': 'Tulungagung', 'Temperature (°C)': 32.36, 'Weather': 'broken clouds', 'Humidity (%)': 67, 'Wind Speed (m/s)': 3.12, 'Date': '2025-04-06 03:46:48'}, {'City': 'Trenggalek', 'Temperature (°C)': 31.78, 'Weather': 'broken clouds', 'Humidity (%)': 66, 'Wind Speed (m/s)': 2.54, 'Date': '2025-04-06 03:46:48'}, {'City': 'Ngawi', 'Temperature (°C)': 30.66, 'Weather': 'broken clouds', 'Humidity (%)': 72, 'Wind Speed (m/s)': 2.02, 'Date': '2025-04-06 03:46:48'}, {'City': 'Magetan', 'Temperature (°C)': 28.64, 'Weather': 'broken clouds', 'Humidity (%)': 71, 'Wind Speed (m/s)': 1.65, 'Date': '2025-04-06 03:46:48'}, {'City': 'Pacitan', 'Temperature (°C)': 30.05, 'Weather': 'scattered clouds', 'Humidity (%)': 66, 'Wind Speed (m/s)': 4.26, 'Date': '2025-04-06 03:46:48'}, {'City': 'Bondowoso', 'Temperature (°C)': 29.1, 'Weather': 'overcast clouds', 'Humidity (%)': 66, 'Wind Speed (m/s)': 0.6, 'Date': '2025-04-06 03:46:48'}, {'City': 'Situbondo', 'Temperature (°C)': 30.58, 'Weather': 'overcast clouds', 'Humidity (%)': 64, 'Wind Speed (m/s)': 1.88, 'Date': '2025-04-06 03:46:49'}, {'City': 'Jombang', 'Temperature (°C)': 33.1, 'Weather': 'scattered clouds', 'Humidity (%)': 65, 'Wind Speed (m/s)': 1.18, 'Date': '2025-04-06 03:46:49'}, {'City': 'Madiun', 'Temperature (°C)': 31.56, 'Weather': 'broken clouds', 'Humidity (%)': 67, 'Wind Speed (m/s)': 0.79, 'Date': '2025-04-06 03:46:49'}]\n",
            "===============================\n",
            "Hasil meta terstruktur berupa JSON prettify:\n",
            "{\"City\":\"Surabaya\",\"Temperature (\\u00b0C)\":32.23,\"Weather\":\"few clouds\",\"Humidity (%)\":67,\"Wind Speed (m\\/s)\":2.06,\"Date\":\"2025-04-06 03:46:47\"}\n",
            "{\"City\":\"Malang\",\"Temperature (\\u00b0C)\":30.59,\"Weather\":\"few clouds\",\"Humidity (%)\":75,\"Wind Speed (m\\/s)\":1.75,\"Date\":\"2025-04-06 03:46:47\"}\n",
            "{\"City\":\"Kediri\",\"Temperature (\\u00b0C)\":34.04,\"Weather\":\"broken clouds\",\"Humidity (%)\":66,\"Wind Speed (m\\/s)\":3.97,\"Date\":\"2025-04-06 03:46:47\"}\n",
            "{\"City\":\"Jember\",\"Temperature (\\u00b0C)\":30.25,\"Weather\":\"overcast clouds\",\"Humidity (%)\":64,\"Wind Speed (m\\/s)\":1.9,\"Date\":\"2025-04-06 03:46:47\"}\n",
            "{\"City\":\"Mojokerto\",\"Temperature (\\u00b0C)\":32.1,\"Weather\":\"broken clouds\",\"Humidity (%)\":68,\"Wind Speed (m\\/s)\":2.01,\"Date\":\"2025-04-06 03:46:48\"}\n",
            "{\"City\":\"Probolinggo\",\"Temperature (\\u00b0C)\":31.68,\"Weather\":\"scattered clouds\",\"Humidity (%)\":67,\"Wind Speed (m\\/s)\":2.94,\"Date\":\"2025-04-06 03:46:48\"}\n",
            "{\"City\":\"Banyuwangi\",\"Temperature (\\u00b0C)\":30.36,\"Weather\":\"overcast clouds\",\"Humidity (%)\":64,\"Wind Speed (m\\/s)\":2.88,\"Date\":\"2025-04-06 03:46:48\"}\n",
            "{\"City\":\"Pasuruan\",\"Temperature (\\u00b0C)\":32.55,\"Weather\":\"few clouds\",\"Humidity (%)\":68,\"Wind Speed (m\\/s)\":2.97,\"Date\":\"2025-04-06 03:46:48\"}\n",
            "{\"City\":\"Lumajang\",\"Temperature (\\u00b0C)\":30.97,\"Weather\":\"broken clouds\",\"Humidity (%)\":65,\"Wind Speed (m\\/s)\":3.25,\"Date\":\"2025-04-06 03:46:48\"}\n",
            "{\"City\":\"Sidoarjo\",\"Temperature (\\u00b0C)\":29.98,\"Weather\":\"few clouds\",\"Humidity (%)\":74,\"Wind Speed (m\\/s)\":2.06,\"Date\":\"2025-04-06 03:46:48\"}\n",
            "{\"City\":\"Blitar\",\"Temperature (\\u00b0C)\":32.28,\"Weather\":\"few clouds\",\"Humidity (%)\":68,\"Wind Speed (m\\/s)\":3.76,\"Date\":\"2025-04-06 03:46:48\"}\n",
            "{\"City\":\"Tulungagung\",\"Temperature (\\u00b0C)\":32.36,\"Weather\":\"broken clouds\",\"Humidity (%)\":67,\"Wind Speed (m\\/s)\":3.12,\"Date\":\"2025-04-06 03:46:48\"}\n",
            "{\"City\":\"Trenggalek\",\"Temperature (\\u00b0C)\":31.78,\"Weather\":\"broken clouds\",\"Humidity (%)\":66,\"Wind Speed (m\\/s)\":2.54,\"Date\":\"2025-04-06 03:46:48\"}\n",
            "{\"City\":\"Ngawi\",\"Temperature (\\u00b0C)\":30.66,\"Weather\":\"broken clouds\",\"Humidity (%)\":72,\"Wind Speed (m\\/s)\":2.02,\"Date\":\"2025-04-06 03:46:48\"}\n",
            "{\"City\":\"Magetan\",\"Temperature (\\u00b0C)\":28.64,\"Weather\":\"broken clouds\",\"Humidity (%)\":71,\"Wind Speed (m\\/s)\":1.65,\"Date\":\"2025-04-06 03:46:48\"}\n",
            "{\"City\":\"Pacitan\",\"Temperature (\\u00b0C)\":30.05,\"Weather\":\"scattered clouds\",\"Humidity (%)\":66,\"Wind Speed (m\\/s)\":4.26,\"Date\":\"2025-04-06 03:46:48\"}\n",
            "{\"City\":\"Bondowoso\",\"Temperature (\\u00b0C)\":29.1,\"Weather\":\"overcast clouds\",\"Humidity (%)\":66,\"Wind Speed (m\\/s)\":0.6,\"Date\":\"2025-04-06 03:46:48\"}\n",
            "{\"City\":\"Situbondo\",\"Temperature (\\u00b0C)\":30.58,\"Weather\":\"overcast clouds\",\"Humidity (%)\":64,\"Wind Speed (m\\/s)\":1.88,\"Date\":\"2025-04-06 03:46:49\"}\n",
            "{\"City\":\"Jombang\",\"Temperature (\\u00b0C)\":33.1,\"Weather\":\"scattered clouds\",\"Humidity (%)\":65,\"Wind Speed (m\\/s)\":1.18,\"Date\":\"2025-04-06 03:46:49\"}\n",
            "{\"City\":\"Madiun\",\"Temperature (\\u00b0C)\":31.56,\"Weather\":\"broken clouds\",\"Humidity (%)\":67,\"Wind Speed (m\\/s)\":0.79,\"Date\":\"2025-04-06 03:46:49\"}\n",
            "\n"
          ]
        }
      ]
    },
    {
      "cell_type": "markdown",
      "source": [
        "**Mengubah JSON (data semi terstruktur menjadi data terstruktur (tabular))**"
      ],
      "metadata": {
        "id": "F_ENnI0uGxo_"
      }
    },
    {
      "cell_type": "markdown",
      "source": [
        "menyimpan data dalam file Excel."
      ],
      "metadata": {
        "id": "2Y9zrB3CG3EH"
      }
    },
    {
      "cell_type": "code",
      "source": [
        "\n",
        "print(\"Hasil meta terstruktur berupa JSON:\")\n",
        "json_data = json.dumps(weather_data, indent=4)\n",
        "print(json_data)\n",
        "\n",
        "\n",
        "Datappdb = []\n",
        "for item in weather_data:\n",
        "    data = {\n",
        "        'Kota': item['City'],\n",
        "        'Suhu (°C)': item['Temperature (°C)'],\n",
        "        'Cuaca': item['Weather'],\n",
        "        'Kelembapan (%)': item['Humidity (%)'],\n",
        "        'Kecepatan Angin (m/s)': item['Wind Speed (m/s)'],\n",
        "        'Tanggal': item['Date']\n",
        "    }\n",
        "    Datappdb.append(data)\n",
        "\n",
        "\n",
        "df = pd.DataFrame(Datappdb)\n",
        "df.to_excel('data_cuaca_jawa_timur.xlsx', index=False)\n",
        "print(\"Data cuaca telah disimpan di file Excel 'data_cuaca_jawa_timur.xlsx'\")"
      ],
      "metadata": {
        "colab": {
          "base_uri": "https://localhost:8080/"
        },
        "id": "iRp_8MA_G5dd",
        "outputId": "55e72c2d-d94e-47af-e25a-4ba03943bd2d"
      },
      "execution_count": 3,
      "outputs": [
        {
          "output_type": "stream",
          "name": "stdout",
          "text": [
            "Hasil meta terstruktur berupa JSON:\n",
            "[\n",
            "    {\n",
            "        \"City\": \"Surabaya\",\n",
            "        \"Temperature (\\u00b0C)\": 32.23,\n",
            "        \"Weather\": \"few clouds\",\n",
            "        \"Humidity (%)\": 67,\n",
            "        \"Wind Speed (m/s)\": 2.06,\n",
            "        \"Date\": \"2025-04-06 03:46:47\"\n",
            "    },\n",
            "    {\n",
            "        \"City\": \"Malang\",\n",
            "        \"Temperature (\\u00b0C)\": 30.59,\n",
            "        \"Weather\": \"few clouds\",\n",
            "        \"Humidity (%)\": 75,\n",
            "        \"Wind Speed (m/s)\": 1.75,\n",
            "        \"Date\": \"2025-04-06 03:46:47\"\n",
            "    },\n",
            "    {\n",
            "        \"City\": \"Kediri\",\n",
            "        \"Temperature (\\u00b0C)\": 34.04,\n",
            "        \"Weather\": \"broken clouds\",\n",
            "        \"Humidity (%)\": 66,\n",
            "        \"Wind Speed (m/s)\": 3.97,\n",
            "        \"Date\": \"2025-04-06 03:46:47\"\n",
            "    },\n",
            "    {\n",
            "        \"City\": \"Jember\",\n",
            "        \"Temperature (\\u00b0C)\": 30.25,\n",
            "        \"Weather\": \"overcast clouds\",\n",
            "        \"Humidity (%)\": 64,\n",
            "        \"Wind Speed (m/s)\": 1.9,\n",
            "        \"Date\": \"2025-04-06 03:46:47\"\n",
            "    },\n",
            "    {\n",
            "        \"City\": \"Mojokerto\",\n",
            "        \"Temperature (\\u00b0C)\": 32.1,\n",
            "        \"Weather\": \"broken clouds\",\n",
            "        \"Humidity (%)\": 68,\n",
            "        \"Wind Speed (m/s)\": 2.01,\n",
            "        \"Date\": \"2025-04-06 03:46:48\"\n",
            "    },\n",
            "    {\n",
            "        \"City\": \"Probolinggo\",\n",
            "        \"Temperature (\\u00b0C)\": 31.68,\n",
            "        \"Weather\": \"scattered clouds\",\n",
            "        \"Humidity (%)\": 67,\n",
            "        \"Wind Speed (m/s)\": 2.94,\n",
            "        \"Date\": \"2025-04-06 03:46:48\"\n",
            "    },\n",
            "    {\n",
            "        \"City\": \"Banyuwangi\",\n",
            "        \"Temperature (\\u00b0C)\": 30.36,\n",
            "        \"Weather\": \"overcast clouds\",\n",
            "        \"Humidity (%)\": 64,\n",
            "        \"Wind Speed (m/s)\": 2.88,\n",
            "        \"Date\": \"2025-04-06 03:46:48\"\n",
            "    },\n",
            "    {\n",
            "        \"City\": \"Pasuruan\",\n",
            "        \"Temperature (\\u00b0C)\": 32.55,\n",
            "        \"Weather\": \"few clouds\",\n",
            "        \"Humidity (%)\": 68,\n",
            "        \"Wind Speed (m/s)\": 2.97,\n",
            "        \"Date\": \"2025-04-06 03:46:48\"\n",
            "    },\n",
            "    {\n",
            "        \"City\": \"Lumajang\",\n",
            "        \"Temperature (\\u00b0C)\": 30.97,\n",
            "        \"Weather\": \"broken clouds\",\n",
            "        \"Humidity (%)\": 65,\n",
            "        \"Wind Speed (m/s)\": 3.25,\n",
            "        \"Date\": \"2025-04-06 03:46:48\"\n",
            "    },\n",
            "    {\n",
            "        \"City\": \"Sidoarjo\",\n",
            "        \"Temperature (\\u00b0C)\": 29.98,\n",
            "        \"Weather\": \"few clouds\",\n",
            "        \"Humidity (%)\": 74,\n",
            "        \"Wind Speed (m/s)\": 2.06,\n",
            "        \"Date\": \"2025-04-06 03:46:48\"\n",
            "    },\n",
            "    {\n",
            "        \"City\": \"Blitar\",\n",
            "        \"Temperature (\\u00b0C)\": 32.28,\n",
            "        \"Weather\": \"few clouds\",\n",
            "        \"Humidity (%)\": 68,\n",
            "        \"Wind Speed (m/s)\": 3.76,\n",
            "        \"Date\": \"2025-04-06 03:46:48\"\n",
            "    },\n",
            "    {\n",
            "        \"City\": \"Tulungagung\",\n",
            "        \"Temperature (\\u00b0C)\": 32.36,\n",
            "        \"Weather\": \"broken clouds\",\n",
            "        \"Humidity (%)\": 67,\n",
            "        \"Wind Speed (m/s)\": 3.12,\n",
            "        \"Date\": \"2025-04-06 03:46:48\"\n",
            "    },\n",
            "    {\n",
            "        \"City\": \"Trenggalek\",\n",
            "        \"Temperature (\\u00b0C)\": 31.78,\n",
            "        \"Weather\": \"broken clouds\",\n",
            "        \"Humidity (%)\": 66,\n",
            "        \"Wind Speed (m/s)\": 2.54,\n",
            "        \"Date\": \"2025-04-06 03:46:48\"\n",
            "    },\n",
            "    {\n",
            "        \"City\": \"Ngawi\",\n",
            "        \"Temperature (\\u00b0C)\": 30.66,\n",
            "        \"Weather\": \"broken clouds\",\n",
            "        \"Humidity (%)\": 72,\n",
            "        \"Wind Speed (m/s)\": 2.02,\n",
            "        \"Date\": \"2025-04-06 03:46:48\"\n",
            "    },\n",
            "    {\n",
            "        \"City\": \"Magetan\",\n",
            "        \"Temperature (\\u00b0C)\": 28.64,\n",
            "        \"Weather\": \"broken clouds\",\n",
            "        \"Humidity (%)\": 71,\n",
            "        \"Wind Speed (m/s)\": 1.65,\n",
            "        \"Date\": \"2025-04-06 03:46:48\"\n",
            "    },\n",
            "    {\n",
            "        \"City\": \"Pacitan\",\n",
            "        \"Temperature (\\u00b0C)\": 30.05,\n",
            "        \"Weather\": \"scattered clouds\",\n",
            "        \"Humidity (%)\": 66,\n",
            "        \"Wind Speed (m/s)\": 4.26,\n",
            "        \"Date\": \"2025-04-06 03:46:48\"\n",
            "    },\n",
            "    {\n",
            "        \"City\": \"Bondowoso\",\n",
            "        \"Temperature (\\u00b0C)\": 29.1,\n",
            "        \"Weather\": \"overcast clouds\",\n",
            "        \"Humidity (%)\": 66,\n",
            "        \"Wind Speed (m/s)\": 0.6,\n",
            "        \"Date\": \"2025-04-06 03:46:48\"\n",
            "    },\n",
            "    {\n",
            "        \"City\": \"Situbondo\",\n",
            "        \"Temperature (\\u00b0C)\": 30.58,\n",
            "        \"Weather\": \"overcast clouds\",\n",
            "        \"Humidity (%)\": 64,\n",
            "        \"Wind Speed (m/s)\": 1.88,\n",
            "        \"Date\": \"2025-04-06 03:46:49\"\n",
            "    },\n",
            "    {\n",
            "        \"City\": \"Jombang\",\n",
            "        \"Temperature (\\u00b0C)\": 33.1,\n",
            "        \"Weather\": \"scattered clouds\",\n",
            "        \"Humidity (%)\": 65,\n",
            "        \"Wind Speed (m/s)\": 1.18,\n",
            "        \"Date\": \"2025-04-06 03:46:49\"\n",
            "    },\n",
            "    {\n",
            "        \"City\": \"Madiun\",\n",
            "        \"Temperature (\\u00b0C)\": 31.56,\n",
            "        \"Weather\": \"broken clouds\",\n",
            "        \"Humidity (%)\": 67,\n",
            "        \"Wind Speed (m/s)\": 0.79,\n",
            "        \"Date\": \"2025-04-06 03:46:49\"\n",
            "    }\n",
            "]\n",
            "Data cuaca telah disimpan di file Excel 'data_cuaca_jawa_timur.xlsx'\n"
          ]
        }
      ]
    }
  ]
}